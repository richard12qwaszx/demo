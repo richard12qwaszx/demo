{
 "cells": [
  {
   "cell_type": "code",
   "execution_count": 1,
   "metadata": {},
   "outputs": [],
   "source": [
    "# -*- coding: UTF-8 -*-\n",
    "import sys,os,dlib,glob,numpy\n",
    "from skimage import io\n",
    "\n",
    "\n",
    "# 載入人臉檢測器(標註打框)\n",
    "detector = dlib.get_frontal_face_detector()\n",
    "#人臉68特徵點模型\n",
    "sp = dlib.shape_predictor('shape_predictor_68_face_landmarks.dat')\n",
    "#載入人臉辨識模型\n",
    "facerec= dlib.face_recognition_model_v1('dlib_face_recognition_resnet_model_v1.dat')\n"
   ]
  },
  {
   "cell_type": "code",
   "execution_count": 2,
   "metadata": {},
   "outputs": [
    {
     "name": "stdout",
     "output_type": "stream",
     "text": [
      "Processing file: candidate-face\\iron.jpg\n",
      "Number of faces detected: 1\n",
      "Processing file: candidate-face\\james.jpg\n",
      "Number of faces detected: 1\n",
      "Processing file: candidate-face\\哈妮克孜.jpg\n",
      "Number of faces detected: 1\n",
      "Processing file: candidate-face\\朱嘉凌.jpg\n",
      "Number of faces detected: 1\n",
      "Processing file: candidate-face\\林依晨.jpg\n",
      "Number of faces detected: 1\n",
      "Processing file: candidate-face\\林志玲.jpg\n",
      "Number of faces detected: 1\n",
      "Processing file: candidate-face\\柯育堂.jpg\n",
      "Number of faces detected: 1\n",
      "Processing file: candidate-face\\波多野.jpg\n",
      "Number of faces detected: 1\n",
      "Processing file: candidate-face\\范冰冰.jpg\n",
      "Number of faces detected: 1\n",
      "Processing file: candidate-face\\藍wife.jpg\n",
      "Number of faces detected: 1\n",
      "Processing file: candidate-face\\袁新峻.jpg\n",
      "Number of faces detected: 1\n",
      "Processing file: candidate-face\\袁新銢.jpg\n",
      "Number of faces detected: 1\n",
      "Processing file: candidate-face\\馬英九.jpg\n",
      "Number of faces detected: 1\n",
      "Processing file: candidate-face\\黑寡婦.jpg\n",
      "Number of faces detected: 1\n"
     ]
    }
   ],
   "source": [
    "faces_folder_path='candidate-face'\n",
    "# 比對人臉名稱列表 \n",
    "candidate = [] \n",
    "# 候选人脸描述子list\n",
    "descriptors = []\n",
    "\n",
    "# 对文件夹下的每一个人脸进行:\n",
    "# 1.人脸检测\n",
    "# 2.关键点检测\n",
    "# 3.描述子提取\n",
    "\n",
    "for f in glob.glob(os.path.join(faces_folder_path, \"*.jpg\")):\n",
    "    base = os.path.basename(f) \n",
    "    # 依序取得圖片檔案人名 \n",
    "    candidate.append(os.path.splitext(base)[ 0]) \n",
    "    print(\"Processing file: {}\".format(f))\n",
    "   \n",
    "    img = io.imread(f)\n",
    "    #win.clear_overlay()\n",
    "    #win.set_image(img)\n",
    "\n",
    "    # 1.人脸检测\n",
    "    dets = detector(img, 1)\n",
    "    print(\"Number of faces detected: {}\".format(len(dets)))\n",
    "    \n",
    "    #win = dlib.image_window()\n",
    "    for k, d in enumerate(dets):  \n",
    "        # 2.关键点检测\n",
    "        shape = sp(img, d)\n",
    "        # 画出人脸区域和和关键点\n",
    "        #win.clear_overlay()\n",
    "        #win.add_overlay(d)\n",
    "        #win.add_overlay(shape)\n",
    "                \n",
    "        # 3.描述子提取，128D向量\n",
    "        face_descriptor = facerec.compute_face_descriptor(img,shape)\n",
    "\n",
    "        # 转换为numpy array\n",
    "        v = numpy.array(face_descriptor)  \n",
    "        #print(v)\n",
    "        descriptors.append(v)"
   ]
  },
  {
   "cell_type": "code",
   "execution_count": 3,
   "metadata": {},
   "outputs": [
    {
     "name": "stdout",
     "output_type": "stream",
     "text": [
      "test-face\\0.jpg The person is:袁新銢\n",
      "test-face\\1.JPG The person is:朱嘉凌\n",
      "test-face\\11.jpg The person is:林志玲\n",
      "test-face\\12.jpg The person is:哈妮克孜\n",
      "test-face\\13.jpg The person is:林依晨\n",
      "test-face\\14.jpg The person is:黑寡婦\n",
      "test-face\\15.jpg The person is:朱嘉凌\n",
      "test-face\\16.jpg The person is:柯育堂\n",
      "test-face\\17.jpg The person is:不認識\n",
      "test-face\\18.jpg The person is:不認識\n",
      "test-face\\19.jpg The person is:不認識\n",
      "test-face\\2.jpg The person is:范冰冰\n",
      "test-face\\3.jpg The person is:james\n",
      "test-face\\4.jpg The person is:林依晨\n",
      "test-face\\5.jpg The person is:袁新峻\n",
      "test-face\\6.jpg The person is:黑寡婦\n",
      "test-face\\7.jpg The person is:iron\n",
      "test-face\\8.jpg The person is:波多野\n",
      "test-face\\9.jpg The person is:馬英九\n"
     ]
    }
   ],
   "source": [
    "# 对需识别人脸进行同样处理\n",
    "facestest_folder_path='test-face'\n",
    "for f in glob.glob(os.path.join(facestest_folder_path, \"*.jpg\")):\n",
    "    img = io.imread(f)\n",
    "    #人脸检测\n",
    "    dets = detector(img, 1)\n",
    "    #與候選人歐式距離集合\n",
    "    dist = []\n",
    "\n",
    "    for k, d in enumerate(dets):\n",
    "        shape = sp(img, d)\n",
    "        face_descriptor = facerec.compute_face_descriptor(img, shape)\n",
    "        d_test = numpy.array(face_descriptor) \n",
    "\n",
    "        # 计算欧式距离\n",
    "        for i in descriptors:\n",
    "            dist_ = numpy.linalg.norm(i-d_test)\n",
    "            dist.append(dist_)\n",
    "\n",
    "    # 候选人和距离组成一个dict\n",
    "    c_d = dict(zip(candidate,dist))\n",
    "    #print(c_d)\n",
    "    \n",
    "    #排序取出最小距離候選人\n",
    "    cd_sorted = sorted(c_d.items(), key = lambda d:d[ 1]) \n",
    "    \n",
    "    #距離門檻判定\n",
    "    if cd_sorted[0][1]>0.5:\n",
    "        print (f+' The person is:不認識')\n",
    "    else:\n",
    "        print (f+' The person is:'+cd_sorted[0][0]  )\n",
    "    dlib.hit_enter_to_continue()\n"
   ]
  },
  {
   "cell_type": "code",
   "execution_count": null,
   "metadata": {},
   "outputs": [],
   "source": []
  },
  {
   "cell_type": "code",
   "execution_count": null,
   "metadata": {},
   "outputs": [],
   "source": []
  }
 ],
 "metadata": {
  "kernelspec": {
   "display_name": "tensorflowgpu",
   "language": "python",
   "name": "tensorflowgpu"
  },
  "language_info": {
   "codemirror_mode": {
    "name": "ipython",
    "version": 3
   },
   "file_extension": ".py",
   "mimetype": "text/x-python",
   "name": "python",
   "nbconvert_exporter": "python",
   "pygments_lexer": "ipython3",
   "version": "3.6.4"
  }
 },
 "nbformat": 4,
 "nbformat_minor": 4
}
